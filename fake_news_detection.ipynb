{
  "metadata": {
    "kernelspec": {
      "language": "python",
      "display_name": "Python 3",
      "name": "python3"
    },
    "language_info": {
      "pygments_lexer": "ipython3",
      "nbconvert_exporter": "python",
      "version": "3.6.4",
      "file_extension": ".py",
      "codemirror_mode": {
        "name": "ipython",
        "version": 3
      },
      "name": "python",
      "mimetype": "text/x-python"
    },
    "colab": {
      "name": "fake-news-detection.ipynb",
      "provenance": []
    }
  },
  "nbformat_minor": 0,
  "nbformat": 4,
  "cells": [
    {
      "cell_type": "markdown",
      "source": [
        "Importing the libraries"
      ],
      "metadata": {
        "_uuid": "8f2839f25d086af736a60e9eeb907d3b93b6e0e5",
        "_cell_guid": "b1076dfc-b9ad-4769-8c92-a6c4dae69d19",
        "id": "5c8CrvaRsWEe"
      }
    },
    {
      "cell_type": "code",
      "source": [
        "import pandas as pd\n",
        "import numpy as np\n",
        "import re \n",
        "from nltk.corpus import stopwords\n",
        "from nltk.stem.porter import PorterStemmer\n",
        "from sklearn.feature_extraction.text import TfidfVectorizer\n",
        "from sklearn.model_selection import train_test_split\n",
        "from sklearn.linear_model import LogisticRegression\n",
        "from sklearn.metrics import accuracy_score\n",
        "from sklearn.naive_bayes import MultinomialNB\n",
        "from sklearn import model_selection, naive_bayes, svm\n",
        "from sklearn.tree import DecisionTreeClassifier\n",
        "from sklearn.ensemble import RandomForestClassifier\n",
        "from sklearn.ensemble import AdaBoostClassifier\n",
        "from sklearn.neighbors import KNeighborsClassifier"
      ],
      "metadata": {
        "execution": {
          "iopub.status.busy": "2022-02-09T12:58:26.789473Z",
          "iopub.execute_input": "2022-02-09T12:58:26.790319Z",
          "iopub.status.idle": "2022-02-09T12:58:26.796429Z",
          "shell.execute_reply.started": "2022-02-09T12:58:26.79027Z",
          "shell.execute_reply": "2022-02-09T12:58:26.795529Z"
        },
        "trusted": true,
        "id": "LcbS_zhasWEf"
      },
      "execution_count": 50,
      "outputs": []
    },
    {
      "cell_type": "markdown",
      "source": [
        "Get Stopwords"
      ],
      "metadata": {
        "id": "mPju8KFTsWEg"
      }
    },
    {
      "cell_type": "code",
      "source": [
        "import nltk\n",
        "nltk.download('stopwords')"
      ],
      "metadata": {
        "execution": {
          "iopub.status.busy": "2022-02-09T12:58:26.798263Z",
          "iopub.execute_input": "2022-02-09T12:58:26.798775Z",
          "iopub.status.idle": "2022-02-09T12:58:26.814289Z",
          "shell.execute_reply.started": "2022-02-09T12:58:26.798732Z",
          "shell.execute_reply": "2022-02-09T12:58:26.81359Z"
        },
        "trusted": true,
        "colab": {
          "base_uri": "https://localhost:8080/"
        },
        "id": "L4xzxx_RsWEg",
        "outputId": "3ebf0782-b9bf-407b-9658-e9dde570c8b4"
      },
      "execution_count": 11,
      "outputs": [
        {
          "output_type": "stream",
          "name": "stdout",
          "text": [
            "[nltk_data] Downloading package stopwords to /root/nltk_data...\n",
            "[nltk_data]   Package stopwords is already up-to-date!\n"
          ]
        },
        {
          "output_type": "execute_result",
          "data": {
            "text/plain": [
              "True"
            ]
          },
          "metadata": {},
          "execution_count": 11
        }
      ]
    },
    {
      "cell_type": "code",
      "source": [
        "print(stopwords.words('english'))"
      ],
      "metadata": {
        "execution": {
          "iopub.status.busy": "2022-02-09T12:58:26.81586Z",
          "iopub.execute_input": "2022-02-09T12:58:26.816282Z",
          "iopub.status.idle": "2022-02-09T12:58:26.826707Z",
          "shell.execute_reply.started": "2022-02-09T12:58:26.816238Z",
          "shell.execute_reply": "2022-02-09T12:58:26.825988Z"
        },
        "trusted": true,
        "colab": {
          "base_uri": "https://localhost:8080/"
        },
        "id": "JKoMdBmgsWEg",
        "outputId": "f36080f3-e811-4b03-fbd9-3de1a5fc68a4"
      },
      "execution_count": 12,
      "outputs": [
        {
          "output_type": "stream",
          "name": "stdout",
          "text": [
            "['i', 'me', 'my', 'myself', 'we', 'our', 'ours', 'ourselves', 'you', \"you're\", \"you've\", \"you'll\", \"you'd\", 'your', 'yours', 'yourself', 'yourselves', 'he', 'him', 'his', 'himself', 'she', \"she's\", 'her', 'hers', 'herself', 'it', \"it's\", 'its', 'itself', 'they', 'them', 'their', 'theirs', 'themselves', 'what', 'which', 'who', 'whom', 'this', 'that', \"that'll\", 'these', 'those', 'am', 'is', 'are', 'was', 'were', 'be', 'been', 'being', 'have', 'has', 'had', 'having', 'do', 'does', 'did', 'doing', 'a', 'an', 'the', 'and', 'but', 'if', 'or', 'because', 'as', 'until', 'while', 'of', 'at', 'by', 'for', 'with', 'about', 'against', 'between', 'into', 'through', 'during', 'before', 'after', 'above', 'below', 'to', 'from', 'up', 'down', 'in', 'out', 'on', 'off', 'over', 'under', 'again', 'further', 'then', 'once', 'here', 'there', 'when', 'where', 'why', 'how', 'all', 'any', 'both', 'each', 'few', 'more', 'most', 'other', 'some', 'such', 'no', 'nor', 'not', 'only', 'own', 'same', 'so', 'than', 'too', 'very', 's', 't', 'can', 'will', 'just', 'don', \"don't\", 'should', \"should've\", 'now', 'd', 'll', 'm', 'o', 're', 've', 'y', 'ain', 'aren', \"aren't\", 'couldn', \"couldn't\", 'didn', \"didn't\", 'doesn', \"doesn't\", 'hadn', \"hadn't\", 'hasn', \"hasn't\", 'haven', \"haven't\", 'isn', \"isn't\", 'ma', 'mightn', \"mightn't\", 'mustn', \"mustn't\", 'needn', \"needn't\", 'shan', \"shan't\", 'shouldn', \"shouldn't\", 'wasn', \"wasn't\", 'weren', \"weren't\", 'won', \"won't\", 'wouldn', \"wouldn't\"]\n"
          ]
        }
      ]
    },
    {
      "cell_type": "code",
      "source": [
        "news_dataset = pd.read_csv('/content/train.csv')"
      ],
      "metadata": {
        "execution": {
          "iopub.status.busy": "2022-02-09T12:58:26.828535Z",
          "iopub.execute_input": "2022-02-09T12:58:26.8288Z",
          "iopub.status.idle": "2022-02-09T12:58:28.36548Z",
          "shell.execute_reply.started": "2022-02-09T12:58:26.828761Z",
          "shell.execute_reply": "2022-02-09T12:58:28.364551Z"
        },
        "trusted": true,
        "id": "tbnAuynFsWEh"
      },
      "execution_count": 14,
      "outputs": []
    },
    {
      "cell_type": "code",
      "source": [
        "news_dataset.head()"
      ],
      "metadata": {
        "execution": {
          "iopub.status.busy": "2022-02-09T12:58:28.367803Z",
          "iopub.execute_input": "2022-02-09T12:58:28.368038Z",
          "iopub.status.idle": "2022-02-09T12:58:28.382262Z",
          "shell.execute_reply.started": "2022-02-09T12:58:28.368011Z",
          "shell.execute_reply": "2022-02-09T12:58:28.381322Z"
        },
        "trusted": true,
        "colab": {
          "base_uri": "https://localhost:8080/",
          "height": 206
        },
        "id": "jmdde9X3sWEh",
        "outputId": "38298a4e-3923-4549-c19d-3a48456f2c4c"
      },
      "execution_count": 15,
      "outputs": [
        {
          "output_type": "execute_result",
          "data": {
            "text/html": [
              "\n",
              "  <div id=\"df-28b09e33-e90f-4209-958c-8e719ad07727\">\n",
              "    <div class=\"colab-df-container\">\n",
              "      <div>\n",
              "<style scoped>\n",
              "    .dataframe tbody tr th:only-of-type {\n",
              "        vertical-align: middle;\n",
              "    }\n",
              "\n",
              "    .dataframe tbody tr th {\n",
              "        vertical-align: top;\n",
              "    }\n",
              "\n",
              "    .dataframe thead th {\n",
              "        text-align: right;\n",
              "    }\n",
              "</style>\n",
              "<table border=\"1\" class=\"dataframe\">\n",
              "  <thead>\n",
              "    <tr style=\"text-align: right;\">\n",
              "      <th></th>\n",
              "      <th>id</th>\n",
              "      <th>title</th>\n",
              "      <th>author</th>\n",
              "      <th>text</th>\n",
              "      <th>label</th>\n",
              "    </tr>\n",
              "  </thead>\n",
              "  <tbody>\n",
              "    <tr>\n",
              "      <th>0</th>\n",
              "      <td>0</td>\n",
              "      <td>House Dem Aide: We Didn’t Even See Comey’s Let...</td>\n",
              "      <td>Darrell Lucus</td>\n",
              "      <td>House Dem Aide: We Didn’t Even See Comey’s Let...</td>\n",
              "      <td>1</td>\n",
              "    </tr>\n",
              "    <tr>\n",
              "      <th>1</th>\n",
              "      <td>1</td>\n",
              "      <td>FLYNN: Hillary Clinton, Big Woman on Campus - ...</td>\n",
              "      <td>Daniel J. Flynn</td>\n",
              "      <td>Ever get the feeling your life circles the rou...</td>\n",
              "      <td>0</td>\n",
              "    </tr>\n",
              "    <tr>\n",
              "      <th>2</th>\n",
              "      <td>2</td>\n",
              "      <td>Why the Truth Might Get You Fired</td>\n",
              "      <td>Consortiumnews.com</td>\n",
              "      <td>Why the Truth Might Get You Fired October 29, ...</td>\n",
              "      <td>1</td>\n",
              "    </tr>\n",
              "    <tr>\n",
              "      <th>3</th>\n",
              "      <td>3</td>\n",
              "      <td>15 Civilians Killed In Single US Airstrike Hav...</td>\n",
              "      <td>Jessica Purkiss</td>\n",
              "      <td>Videos 15 Civilians Killed In Single US Airstr...</td>\n",
              "      <td>1</td>\n",
              "    </tr>\n",
              "    <tr>\n",
              "      <th>4</th>\n",
              "      <td>4</td>\n",
              "      <td>Iranian woman jailed for fictional unpublished...</td>\n",
              "      <td>Howard Portnoy</td>\n",
              "      <td>Print \\nAn Iranian woman has been sentenced to...</td>\n",
              "      <td>1</td>\n",
              "    </tr>\n",
              "  </tbody>\n",
              "</table>\n",
              "</div>\n",
              "      <button class=\"colab-df-convert\" onclick=\"convertToInteractive('df-28b09e33-e90f-4209-958c-8e719ad07727')\"\n",
              "              title=\"Convert this dataframe to an interactive table.\"\n",
              "              style=\"display:none;\">\n",
              "        \n",
              "  <svg xmlns=\"http://www.w3.org/2000/svg\" height=\"24px\"viewBox=\"0 0 24 24\"\n",
              "       width=\"24px\">\n",
              "    <path d=\"M0 0h24v24H0V0z\" fill=\"none\"/>\n",
              "    <path d=\"M18.56 5.44l.94 2.06.94-2.06 2.06-.94-2.06-.94-.94-2.06-.94 2.06-2.06.94zm-11 1L8.5 8.5l.94-2.06 2.06-.94-2.06-.94L8.5 2.5l-.94 2.06-2.06.94zm10 10l.94 2.06.94-2.06 2.06-.94-2.06-.94-.94-2.06-.94 2.06-2.06.94z\"/><path d=\"M17.41 7.96l-1.37-1.37c-.4-.4-.92-.59-1.43-.59-.52 0-1.04.2-1.43.59L10.3 9.45l-7.72 7.72c-.78.78-.78 2.05 0 2.83L4 21.41c.39.39.9.59 1.41.59.51 0 1.02-.2 1.41-.59l7.78-7.78 2.81-2.81c.8-.78.8-2.07 0-2.86zM5.41 20L4 18.59l7.72-7.72 1.47 1.35L5.41 20z\"/>\n",
              "  </svg>\n",
              "      </button>\n",
              "      \n",
              "  <style>\n",
              "    .colab-df-container {\n",
              "      display:flex;\n",
              "      flex-wrap:wrap;\n",
              "      gap: 12px;\n",
              "    }\n",
              "\n",
              "    .colab-df-convert {\n",
              "      background-color: #E8F0FE;\n",
              "      border: none;\n",
              "      border-radius: 50%;\n",
              "      cursor: pointer;\n",
              "      display: none;\n",
              "      fill: #1967D2;\n",
              "      height: 32px;\n",
              "      padding: 0 0 0 0;\n",
              "      width: 32px;\n",
              "    }\n",
              "\n",
              "    .colab-df-convert:hover {\n",
              "      background-color: #E2EBFA;\n",
              "      box-shadow: 0px 1px 2px rgba(60, 64, 67, 0.3), 0px 1px 3px 1px rgba(60, 64, 67, 0.15);\n",
              "      fill: #174EA6;\n",
              "    }\n",
              "\n",
              "    [theme=dark] .colab-df-convert {\n",
              "      background-color: #3B4455;\n",
              "      fill: #D2E3FC;\n",
              "    }\n",
              "\n",
              "    [theme=dark] .colab-df-convert:hover {\n",
              "      background-color: #434B5C;\n",
              "      box-shadow: 0px 1px 3px 1px rgba(0, 0, 0, 0.15);\n",
              "      filter: drop-shadow(0px 1px 2px rgba(0, 0, 0, 0.3));\n",
              "      fill: #FFFFFF;\n",
              "    }\n",
              "  </style>\n",
              "\n",
              "      <script>\n",
              "        const buttonEl =\n",
              "          document.querySelector('#df-28b09e33-e90f-4209-958c-8e719ad07727 button.colab-df-convert');\n",
              "        buttonEl.style.display =\n",
              "          google.colab.kernel.accessAllowed ? 'block' : 'none';\n",
              "\n",
              "        async function convertToInteractive(key) {\n",
              "          const element = document.querySelector('#df-28b09e33-e90f-4209-958c-8e719ad07727');\n",
              "          const dataTable =\n",
              "            await google.colab.kernel.invokeFunction('convertToInteractive',\n",
              "                                                     [key], {});\n",
              "          if (!dataTable) return;\n",
              "\n",
              "          const docLinkHtml = 'Like what you see? Visit the ' +\n",
              "            '<a target=\"_blank\" href=https://colab.research.google.com/notebooks/data_table.ipynb>data table notebook</a>'\n",
              "            + ' to learn more about interactive tables.';\n",
              "          element.innerHTML = '';\n",
              "          dataTable['output_type'] = 'display_data';\n",
              "          await google.colab.output.renderOutput(dataTable, element);\n",
              "          const docLink = document.createElement('div');\n",
              "          docLink.innerHTML = docLinkHtml;\n",
              "          element.appendChild(docLink);\n",
              "        }\n",
              "      </script>\n",
              "    </div>\n",
              "  </div>\n",
              "  "
            ],
            "text/plain": [
              "   id  ... label\n",
              "0   0  ...     1\n",
              "1   1  ...     0\n",
              "2   2  ...     1\n",
              "3   3  ...     1\n",
              "4   4  ...     1\n",
              "\n",
              "[5 rows x 5 columns]"
            ]
          },
          "metadata": {},
          "execution_count": 15
        }
      ]
    },
    {
      "cell_type": "markdown",
      "source": [
        "Labels:\n",
        "\n",
        "0 ---> Real\n",
        "\n",
        "1 ---> Fake"
      ],
      "metadata": {
        "id": "VtK6lRAGsWEh"
      }
    },
    {
      "cell_type": "code",
      "source": [
        "news_dataset.isnull().sum()"
      ],
      "metadata": {
        "execution": {
          "iopub.status.busy": "2022-02-09T12:58:28.38337Z",
          "iopub.execute_input": "2022-02-09T12:58:28.384134Z",
          "iopub.status.idle": "2022-02-09T12:58:28.409743Z",
          "shell.execute_reply.started": "2022-02-09T12:58:28.384094Z",
          "shell.execute_reply": "2022-02-09T12:58:28.408798Z"
        },
        "trusted": true,
        "colab": {
          "base_uri": "https://localhost:8080/"
        },
        "id": "YSSg6cUosWEh",
        "outputId": "9cf442a7-17c4-4a6e-fb6e-d73ded95f30a"
      },
      "execution_count": 16,
      "outputs": [
        {
          "output_type": "execute_result",
          "data": {
            "text/plain": [
              "id           0\n",
              "title      558\n",
              "author    1957\n",
              "text        39\n",
              "label        0\n",
              "dtype: int64"
            ]
          },
          "metadata": {},
          "execution_count": 16
        }
      ]
    },
    {
      "cell_type": "markdown",
      "source": [
        "Data Preprocessing"
      ],
      "metadata": {
        "id": "UsFMS3l3sWEh"
      }
    },
    {
      "cell_type": "code",
      "source": [
        "#Replacing the missing values with empty string\n",
        "news_dataset = news_dataset.fillna('')"
      ],
      "metadata": {
        "execution": {
          "iopub.status.busy": "2022-02-09T12:58:28.411589Z",
          "iopub.execute_input": "2022-02-09T12:58:28.411938Z",
          "iopub.status.idle": "2022-02-09T12:58:28.431274Z",
          "shell.execute_reply.started": "2022-02-09T12:58:28.411895Z",
          "shell.execute_reply": "2022-02-09T12:58:28.430493Z"
        },
        "trusted": true,
        "id": "ljtkkF7_sWEi"
      },
      "execution_count": 17,
      "outputs": []
    },
    {
      "cell_type": "code",
      "source": [
        "# Merge title and author cols\n",
        "news_dataset['content'] = news_dataset['author']+ ' '+ news_dataset['title']"
      ],
      "metadata": {
        "execution": {
          "iopub.status.busy": "2022-02-09T12:58:28.432193Z",
          "iopub.execute_input": "2022-02-09T12:58:28.432409Z",
          "iopub.status.idle": "2022-02-09T12:58:28.455435Z",
          "shell.execute_reply.started": "2022-02-09T12:58:28.432383Z",
          "shell.execute_reply": "2022-02-09T12:58:28.454777Z"
        },
        "trusted": true,
        "id": "SP3Obx4OsWEi"
      },
      "execution_count": 18,
      "outputs": []
    },
    {
      "cell_type": "code",
      "source": [
        "news_dataset.head()"
      ],
      "metadata": {
        "execution": {
          "iopub.status.busy": "2022-02-09T12:58:28.456432Z",
          "iopub.execute_input": "2022-02-09T12:58:28.457084Z",
          "iopub.status.idle": "2022-02-09T12:58:28.468727Z",
          "shell.execute_reply.started": "2022-02-09T12:58:28.457042Z",
          "shell.execute_reply": "2022-02-09T12:58:28.468066Z"
        },
        "trusted": true,
        "colab": {
          "base_uri": "https://localhost:8080/",
          "height": 337
        },
        "id": "4ix51Qf0sWEi",
        "outputId": "8231018b-699a-4e31-bbd4-cc7766da1c34"
      },
      "execution_count": 19,
      "outputs": [
        {
          "output_type": "execute_result",
          "data": {
            "text/html": [
              "\n",
              "  <div id=\"df-edf97333-1558-4508-beb8-b3613f5bb1ec\">\n",
              "    <div class=\"colab-df-container\">\n",
              "      <div>\n",
              "<style scoped>\n",
              "    .dataframe tbody tr th:only-of-type {\n",
              "        vertical-align: middle;\n",
              "    }\n",
              "\n",
              "    .dataframe tbody tr th {\n",
              "        vertical-align: top;\n",
              "    }\n",
              "\n",
              "    .dataframe thead th {\n",
              "        text-align: right;\n",
              "    }\n",
              "</style>\n",
              "<table border=\"1\" class=\"dataframe\">\n",
              "  <thead>\n",
              "    <tr style=\"text-align: right;\">\n",
              "      <th></th>\n",
              "      <th>id</th>\n",
              "      <th>title</th>\n",
              "      <th>author</th>\n",
              "      <th>text</th>\n",
              "      <th>label</th>\n",
              "      <th>content</th>\n",
              "    </tr>\n",
              "  </thead>\n",
              "  <tbody>\n",
              "    <tr>\n",
              "      <th>0</th>\n",
              "      <td>0</td>\n",
              "      <td>House Dem Aide: We Didn’t Even See Comey’s Let...</td>\n",
              "      <td>Darrell Lucus</td>\n",
              "      <td>House Dem Aide: We Didn’t Even See Comey’s Let...</td>\n",
              "      <td>1</td>\n",
              "      <td>Darrell Lucus House Dem Aide: We Didn’t Even S...</td>\n",
              "    </tr>\n",
              "    <tr>\n",
              "      <th>1</th>\n",
              "      <td>1</td>\n",
              "      <td>FLYNN: Hillary Clinton, Big Woman on Campus - ...</td>\n",
              "      <td>Daniel J. Flynn</td>\n",
              "      <td>Ever get the feeling your life circles the rou...</td>\n",
              "      <td>0</td>\n",
              "      <td>Daniel J. Flynn FLYNN: Hillary Clinton, Big Wo...</td>\n",
              "    </tr>\n",
              "    <tr>\n",
              "      <th>2</th>\n",
              "      <td>2</td>\n",
              "      <td>Why the Truth Might Get You Fired</td>\n",
              "      <td>Consortiumnews.com</td>\n",
              "      <td>Why the Truth Might Get You Fired October 29, ...</td>\n",
              "      <td>1</td>\n",
              "      <td>Consortiumnews.com Why the Truth Might Get You...</td>\n",
              "    </tr>\n",
              "    <tr>\n",
              "      <th>3</th>\n",
              "      <td>3</td>\n",
              "      <td>15 Civilians Killed In Single US Airstrike Hav...</td>\n",
              "      <td>Jessica Purkiss</td>\n",
              "      <td>Videos 15 Civilians Killed In Single US Airstr...</td>\n",
              "      <td>1</td>\n",
              "      <td>Jessica Purkiss 15 Civilians Killed In Single ...</td>\n",
              "    </tr>\n",
              "    <tr>\n",
              "      <th>4</th>\n",
              "      <td>4</td>\n",
              "      <td>Iranian woman jailed for fictional unpublished...</td>\n",
              "      <td>Howard Portnoy</td>\n",
              "      <td>Print \\nAn Iranian woman has been sentenced to...</td>\n",
              "      <td>1</td>\n",
              "      <td>Howard Portnoy Iranian woman jailed for fictio...</td>\n",
              "    </tr>\n",
              "  </tbody>\n",
              "</table>\n",
              "</div>\n",
              "      <button class=\"colab-df-convert\" onclick=\"convertToInteractive('df-edf97333-1558-4508-beb8-b3613f5bb1ec')\"\n",
              "              title=\"Convert this dataframe to an interactive table.\"\n",
              "              style=\"display:none;\">\n",
              "        \n",
              "  <svg xmlns=\"http://www.w3.org/2000/svg\" height=\"24px\"viewBox=\"0 0 24 24\"\n",
              "       width=\"24px\">\n",
              "    <path d=\"M0 0h24v24H0V0z\" fill=\"none\"/>\n",
              "    <path d=\"M18.56 5.44l.94 2.06.94-2.06 2.06-.94-2.06-.94-.94-2.06-.94 2.06-2.06.94zm-11 1L8.5 8.5l.94-2.06 2.06-.94-2.06-.94L8.5 2.5l-.94 2.06-2.06.94zm10 10l.94 2.06.94-2.06 2.06-.94-2.06-.94-.94-2.06-.94 2.06-2.06.94z\"/><path d=\"M17.41 7.96l-1.37-1.37c-.4-.4-.92-.59-1.43-.59-.52 0-1.04.2-1.43.59L10.3 9.45l-7.72 7.72c-.78.78-.78 2.05 0 2.83L4 21.41c.39.39.9.59 1.41.59.51 0 1.02-.2 1.41-.59l7.78-7.78 2.81-2.81c.8-.78.8-2.07 0-2.86zM5.41 20L4 18.59l7.72-7.72 1.47 1.35L5.41 20z\"/>\n",
              "  </svg>\n",
              "      </button>\n",
              "      \n",
              "  <style>\n",
              "    .colab-df-container {\n",
              "      display:flex;\n",
              "      flex-wrap:wrap;\n",
              "      gap: 12px;\n",
              "    }\n",
              "\n",
              "    .colab-df-convert {\n",
              "      background-color: #E8F0FE;\n",
              "      border: none;\n",
              "      border-radius: 50%;\n",
              "      cursor: pointer;\n",
              "      display: none;\n",
              "      fill: #1967D2;\n",
              "      height: 32px;\n",
              "      padding: 0 0 0 0;\n",
              "      width: 32px;\n",
              "    }\n",
              "\n",
              "    .colab-df-convert:hover {\n",
              "      background-color: #E2EBFA;\n",
              "      box-shadow: 0px 1px 2px rgba(60, 64, 67, 0.3), 0px 1px 3px 1px rgba(60, 64, 67, 0.15);\n",
              "      fill: #174EA6;\n",
              "    }\n",
              "\n",
              "    [theme=dark] .colab-df-convert {\n",
              "      background-color: #3B4455;\n",
              "      fill: #D2E3FC;\n",
              "    }\n",
              "\n",
              "    [theme=dark] .colab-df-convert:hover {\n",
              "      background-color: #434B5C;\n",
              "      box-shadow: 0px 1px 3px 1px rgba(0, 0, 0, 0.15);\n",
              "      filter: drop-shadow(0px 1px 2px rgba(0, 0, 0, 0.3));\n",
              "      fill: #FFFFFF;\n",
              "    }\n",
              "  </style>\n",
              "\n",
              "      <script>\n",
              "        const buttonEl =\n",
              "          document.querySelector('#df-edf97333-1558-4508-beb8-b3613f5bb1ec button.colab-df-convert');\n",
              "        buttonEl.style.display =\n",
              "          google.colab.kernel.accessAllowed ? 'block' : 'none';\n",
              "\n",
              "        async function convertToInteractive(key) {\n",
              "          const element = document.querySelector('#df-edf97333-1558-4508-beb8-b3613f5bb1ec');\n",
              "          const dataTable =\n",
              "            await google.colab.kernel.invokeFunction('convertToInteractive',\n",
              "                                                     [key], {});\n",
              "          if (!dataTable) return;\n",
              "\n",
              "          const docLinkHtml = 'Like what you see? Visit the ' +\n",
              "            '<a target=\"_blank\" href=https://colab.research.google.com/notebooks/data_table.ipynb>data table notebook</a>'\n",
              "            + ' to learn more about interactive tables.';\n",
              "          element.innerHTML = '';\n",
              "          dataTable['output_type'] = 'display_data';\n",
              "          await google.colab.output.renderOutput(dataTable, element);\n",
              "          const docLink = document.createElement('div');\n",
              "          docLink.innerHTML = docLinkHtml;\n",
              "          element.appendChild(docLink);\n",
              "        }\n",
              "      </script>\n",
              "    </div>\n",
              "  </div>\n",
              "  "
            ],
            "text/plain": [
              "   id  ...                                            content\n",
              "0   0  ...  Darrell Lucus House Dem Aide: We Didn’t Even S...\n",
              "1   1  ...  Daniel J. Flynn FLYNN: Hillary Clinton, Big Wo...\n",
              "2   2  ...  Consortiumnews.com Why the Truth Might Get You...\n",
              "3   3  ...  Jessica Purkiss 15 Civilians Killed In Single ...\n",
              "4   4  ...  Howard Portnoy Iranian woman jailed for fictio...\n",
              "\n",
              "[5 rows x 6 columns]"
            ]
          },
          "metadata": {},
          "execution_count": 19
        }
      ]
    },
    {
      "cell_type": "markdown",
      "source": [
        "Stemming\n"
      ],
      "metadata": {
        "id": "siYcdaKssWEi"
      }
    },
    {
      "cell_type": "code",
      "source": [
        "port_stem = PorterStemmer()"
      ],
      "metadata": {
        "execution": {
          "iopub.status.busy": "2022-02-09T12:58:28.469816Z",
          "iopub.execute_input": "2022-02-09T12:58:28.470147Z",
          "iopub.status.idle": "2022-02-09T12:58:28.477997Z",
          "shell.execute_reply.started": "2022-02-09T12:58:28.470118Z",
          "shell.execute_reply": "2022-02-09T12:58:28.476875Z"
        },
        "trusted": true,
        "id": "G-iDVBAjsWEi"
      },
      "execution_count": 20,
      "outputs": []
    },
    {
      "cell_type": "code",
      "source": [
        "def stemming(content):\n",
        "    stemmed_content = re.sub('[^a-zA-Z]',' ',content)\n",
        "    stemmed_content = stemmed_content.lower()\n",
        "    stemmed_content = stemmed_content.split()\n",
        "    stemmed_content = [port_stem.stem(word) for word in stemmed_content if not word in stopwords.words('english')]\n",
        "    stemmed_content = ' '.join(stemmed_content)\n",
        "    return stemmed_content"
      ],
      "metadata": {
        "execution": {
          "iopub.status.busy": "2022-02-09T12:58:28.479367Z",
          "iopub.execute_input": "2022-02-09T12:58:28.47974Z",
          "iopub.status.idle": "2022-02-09T12:58:28.492711Z",
          "shell.execute_reply.started": "2022-02-09T12:58:28.479709Z",
          "shell.execute_reply": "2022-02-09T12:58:28.491727Z"
        },
        "trusted": true,
        "id": "tswjDetnsWEi"
      },
      "execution_count": 21,
      "outputs": []
    },
    {
      "cell_type": "code",
      "source": [
        "news_dataset['content'] = news_dataset['content'].apply(stemming)"
      ],
      "metadata": {
        "execution": {
          "iopub.status.busy": "2022-02-09T12:58:28.494036Z",
          "iopub.execute_input": "2022-02-09T12:58:28.496783Z",
          "iopub.status.idle": "2022-02-09T12:59:18.998434Z",
          "shell.execute_reply.started": "2022-02-09T12:58:28.496727Z",
          "shell.execute_reply": "2022-02-09T12:59:18.997536Z"
        },
        "trusted": true,
        "id": "E33Y7RousWEj"
      },
      "execution_count": 22,
      "outputs": []
    },
    {
      "cell_type": "code",
      "source": [
        "print(news_dataset['content'])"
      ],
      "metadata": {
        "execution": {
          "iopub.status.busy": "2022-02-09T12:59:18.999819Z",
          "iopub.execute_input": "2022-02-09T12:59:19.000039Z",
          "iopub.status.idle": "2022-02-09T12:59:19.00688Z",
          "shell.execute_reply.started": "2022-02-09T12:59:19.000012Z",
          "shell.execute_reply": "2022-02-09T12:59:19.006031Z"
        },
        "trusted": true,
        "colab": {
          "base_uri": "https://localhost:8080/"
        },
        "id": "4wt8mhLrsWEj",
        "outputId": "b68ce496-da03-4281-89f5-2d57f2095174"
      },
      "execution_count": 23,
      "outputs": [
        {
          "output_type": "stream",
          "name": "stdout",
          "text": [
            "0        darrel lucu hous dem aid even see comey letter...\n",
            "1        daniel j flynn flynn hillari clinton big woman...\n",
            "2                   consortiumnew com truth might get fire\n",
            "3        jessica purkiss civilian kill singl us airstri...\n",
            "4        howard portnoy iranian woman jail fiction unpu...\n",
            "                               ...                        \n",
            "20795    jerom hudson rapper trump poster child white s...\n",
            "20796    benjamin hoffman n f l playoff schedul matchup...\n",
            "20797    michael j de la merc rachel abram maci said re...\n",
            "20798    alex ansari nato russia hold parallel exercis ...\n",
            "20799                            david swanson keep f aliv\n",
            "Name: content, Length: 20800, dtype: object\n"
          ]
        }
      ]
    },
    {
      "cell_type": "code",
      "source": [
        "#Separating the target and features\n",
        "X = news_dataset['content'].values\n",
        "X"
      ],
      "metadata": {
        "execution": {
          "iopub.status.busy": "2022-02-09T12:59:19.011144Z",
          "iopub.execute_input": "2022-02-09T12:59:19.011388Z",
          "iopub.status.idle": "2022-02-09T12:59:19.023849Z",
          "shell.execute_reply.started": "2022-02-09T12:59:19.011359Z",
          "shell.execute_reply": "2022-02-09T12:59:19.022901Z"
        },
        "trusted": true,
        "colab": {
          "base_uri": "https://localhost:8080/"
        },
        "id": "Xoly2IjAsWEj",
        "outputId": "d6053cd0-ca31-4308-d0a2-6a72ec1652cf"
      },
      "execution_count": 24,
      "outputs": [
        {
          "output_type": "execute_result",
          "data": {
            "text/plain": [
              "array(['darrel lucu hous dem aid even see comey letter jason chaffetz tweet',\n",
              "       'daniel j flynn flynn hillari clinton big woman campu breitbart',\n",
              "       'consortiumnew com truth might get fire', ...,\n",
              "       'michael j de la merc rachel abram maci said receiv takeov approach hudson bay new york time',\n",
              "       'alex ansari nato russia hold parallel exercis balkan',\n",
              "       'david swanson keep f aliv'], dtype=object)"
            ]
          },
          "metadata": {},
          "execution_count": 24
        }
      ]
    },
    {
      "cell_type": "code",
      "source": [
        "Y = news_dataset['label'].values\n",
        "Y"
      ],
      "metadata": {
        "execution": {
          "iopub.status.busy": "2022-02-09T12:59:19.026308Z",
          "iopub.execute_input": "2022-02-09T12:59:19.026681Z",
          "iopub.status.idle": "2022-02-09T12:59:19.040671Z",
          "shell.execute_reply.started": "2022-02-09T12:59:19.02661Z",
          "shell.execute_reply": "2022-02-09T12:59:19.039754Z"
        },
        "trusted": true,
        "colab": {
          "base_uri": "https://localhost:8080/"
        },
        "id": "k8imZ7uosWEj",
        "outputId": "91768027-4f5b-4397-bc5a-3aea1bf62bf2"
      },
      "execution_count": 25,
      "outputs": [
        {
          "output_type": "execute_result",
          "data": {
            "text/plain": [
              "array([1, 0, 1, ..., 0, 1, 1])"
            ]
          },
          "metadata": {},
          "execution_count": 25
        }
      ]
    },
    {
      "cell_type": "markdown",
      "source": [
        "Converting text data to numerical data"
      ],
      "metadata": {
        "id": "pwI_yaTSsWEj"
      }
    },
    {
      "cell_type": "code",
      "source": [
        "vectorizer = TfidfVectorizer()\n",
        "X = vectorizer.fit_transform(X)"
      ],
      "metadata": {
        "execution": {
          "iopub.status.busy": "2022-02-09T12:59:19.042162Z",
          "iopub.execute_input": "2022-02-09T12:59:19.042481Z",
          "iopub.status.idle": "2022-02-09T12:59:19.436452Z",
          "shell.execute_reply.started": "2022-02-09T12:59:19.042441Z",
          "shell.execute_reply": "2022-02-09T12:59:19.435776Z"
        },
        "trusted": true,
        "id": "bvgXeh-rsWEj"
      },
      "execution_count": 26,
      "outputs": []
    },
    {
      "cell_type": "code",
      "source": [
        "print(X)"
      ],
      "metadata": {
        "execution": {
          "iopub.status.busy": "2022-02-09T12:59:19.438Z",
          "iopub.execute_input": "2022-02-09T12:59:19.438594Z",
          "iopub.status.idle": "2022-02-09T12:59:19.448392Z",
          "shell.execute_reply.started": "2022-02-09T12:59:19.438538Z",
          "shell.execute_reply": "2022-02-09T12:59:19.447305Z"
        },
        "trusted": true,
        "colab": {
          "base_uri": "https://localhost:8080/"
        },
        "id": "pvVv4-tesWEj",
        "outputId": "ddc672a0-fff4-4bfe-c607-68ab717cd4d6"
      },
      "execution_count": 27,
      "outputs": [
        {
          "output_type": "stream",
          "name": "stdout",
          "text": [
            "  (0, 15686)\t0.28485063562728646\n",
            "  (0, 2483)\t0.3676519686797209\n",
            "  (0, 7692)\t0.24785219520671603\n",
            "  (0, 8630)\t0.29212514087043684\n",
            "  (0, 2959)\t0.2468450128533713\n",
            "  (0, 13473)\t0.2565896679337957\n",
            "  (0, 4973)\t0.233316966909351\n",
            "  (0, 267)\t0.27010124977708766\n",
            "  (0, 3792)\t0.2705332480845492\n",
            "  (0, 7005)\t0.21874169089359144\n",
            "  (0, 8909)\t0.3635963806326075\n",
            "  (0, 3600)\t0.3598939188262559\n",
            "  (1, 1894)\t0.15521974226349364\n",
            "  (1, 2223)\t0.3827320386859759\n",
            "  (1, 16799)\t0.30071745655510157\n",
            "  (1, 1497)\t0.2939891562094648\n",
            "  (1, 2813)\t0.19094574062359204\n",
            "  (1, 6816)\t0.1904660198296849\n",
            "  (1, 5503)\t0.7143299355715573\n",
            "  (1, 3568)\t0.26373768806048464\n",
            "  (2, 5389)\t0.3866530551182615\n",
            "  (2, 5968)\t0.3474613386728292\n",
            "  (2, 9620)\t0.49351492943649944\n",
            "  (2, 15611)\t0.41544962664721613\n",
            "  (2, 2943)\t0.3179886800654691\n",
            "  :\t:\n",
            "  (20797, 1287)\t0.3353805680413986\n",
            "  (20797, 13122)\t0.24825263521976057\n",
            "  (20797, 12344)\t0.27263457663336677\n",
            "  (20797, 14967)\t0.3115945315488075\n",
            "  (20797, 12138)\t0.24778257724396505\n",
            "  (20797, 9518)\t0.29542040034203126\n",
            "  (20797, 8364)\t0.22322585870464115\n",
            "  (20797, 3643)\t0.2115550061362374\n",
            "  (20797, 7042)\t0.21799048897828685\n",
            "  (20797, 9588)\t0.17455348025522197\n",
            "  (20797, 15295)\t0.08159261204402356\n",
            "  (20797, 16996)\t0.08315655906109998\n",
            "  (20797, 10306)\t0.08038079000566466\n",
            "  (20798, 1125)\t0.4460515589182236\n",
            "  (20798, 5032)\t0.4083701450239529\n",
            "  (20798, 588)\t0.3112141524638974\n",
            "  (20798, 350)\t0.28446937819072576\n",
            "  (20798, 11052)\t0.4460515589182236\n",
            "  (20798, 6889)\t0.32496285694299426\n",
            "  (20798, 10177)\t0.3192496370187028\n",
            "  (20798, 13046)\t0.22363267488270608\n",
            "  (20799, 377)\t0.5677577267055112\n",
            "  (20799, 14852)\t0.5677577267055112\n",
            "  (20799, 3623)\t0.37927626273066584\n",
            "  (20799, 8036)\t0.45983893273780013\n"
          ]
        }
      ]
    },
    {
      "cell_type": "code",
      "source": [
        "X.shape"
      ],
      "metadata": {
        "execution": {
          "iopub.status.busy": "2022-02-09T12:59:19.44991Z",
          "iopub.execute_input": "2022-02-09T12:59:19.450931Z",
          "iopub.status.idle": "2022-02-09T12:59:19.460102Z",
          "shell.execute_reply.started": "2022-02-09T12:59:19.450883Z",
          "shell.execute_reply": "2022-02-09T12:59:19.458505Z"
        },
        "trusted": true,
        "colab": {
          "base_uri": "https://localhost:8080/"
        },
        "id": "WSLKtv16sWEk",
        "outputId": "89810a3b-54ce-4749-e91f-1a16b39f69bf"
      },
      "execution_count": 28,
      "outputs": [
        {
          "output_type": "execute_result",
          "data": {
            "text/plain": [
              "(20800, 17128)"
            ]
          },
          "metadata": {},
          "execution_count": 28
        }
      ]
    },
    {
      "cell_type": "markdown",
      "source": [
        "Splitting the training and test data"
      ],
      "metadata": {
        "id": "KDu23bJlsWEk"
      }
    },
    {
      "cell_type": "code",
      "source": [
        "X_train, X_test, Y_train, Y_test = train_test_split(X,Y, test_size= 0.2, stratify= Y, random_state = 1)"
      ],
      "metadata": {
        "execution": {
          "iopub.status.busy": "2022-02-09T12:59:19.461927Z",
          "iopub.execute_input": "2022-02-09T12:59:19.462266Z",
          "iopub.status.idle": "2022-02-09T12:59:19.487026Z",
          "shell.execute_reply.started": "2022-02-09T12:59:19.462223Z",
          "shell.execute_reply": "2022-02-09T12:59:19.486066Z"
        },
        "trusted": true,
        "id": "PnMW-fdasWEk"
      },
      "execution_count": 29,
      "outputs": []
    },
    {
      "cell_type": "code",
      "source": [
        "print(X.shape,X_train.shape, Y.shape, Y_train.shape)"
      ],
      "metadata": {
        "execution": {
          "iopub.status.busy": "2022-02-09T12:59:19.488408Z",
          "iopub.execute_input": "2022-02-09T12:59:19.48873Z",
          "iopub.status.idle": "2022-02-09T12:59:19.495181Z",
          "shell.execute_reply.started": "2022-02-09T12:59:19.48867Z",
          "shell.execute_reply": "2022-02-09T12:59:19.494136Z"
        },
        "trusted": true,
        "colab": {
          "base_uri": "https://localhost:8080/"
        },
        "id": "1WlszYFnsWEk",
        "outputId": "15b39ba1-787e-4c35-f22a-4f925efb7220"
      },
      "execution_count": 30,
      "outputs": [
        {
          "output_type": "stream",
          "name": "stdout",
          "text": [
            "(20800, 17128) (16640, 17128) (20800,) (16640,)\n"
          ]
        }
      ]
    },
    {
      "cell_type": "code",
      "source": [
        "#Model Training\n",
        "model = LogisticRegression()\n",
        "model.fit(X_train, Y_train)"
      ],
      "metadata": {
        "execution": {
          "iopub.status.busy": "2022-02-09T12:59:19.496994Z",
          "iopub.execute_input": "2022-02-09T12:59:19.497304Z",
          "iopub.status.idle": "2022-02-09T12:59:19.991991Z",
          "shell.execute_reply.started": "2022-02-09T12:59:19.497263Z",
          "shell.execute_reply": "2022-02-09T12:59:19.991111Z"
        },
        "trusted": true,
        "colab": {
          "base_uri": "https://localhost:8080/"
        },
        "id": "SCFlmqc9sWEk",
        "outputId": "7ec465b7-a398-416e-8c98-e1fcb9641ac5"
      },
      "execution_count": 31,
      "outputs": [
        {
          "output_type": "execute_result",
          "data": {
            "text/plain": [
              "LogisticRegression()"
            ]
          },
          "metadata": {},
          "execution_count": 31
        }
      ]
    },
    {
      "cell_type": "code",
      "source": [
        "#Acc score on training data\n",
        "train_prediction = model.predict(X_train)\n",
        "train_acc = accuracy_score(train_prediction, Y_train)\n",
        "print(\"Logistic Regression Training data accuracy:\", train_acc)"
      ],
      "metadata": {
        "execution": {
          "iopub.status.busy": "2022-02-09T12:59:19.993465Z",
          "iopub.execute_input": "2022-02-09T12:59:19.994449Z",
          "iopub.status.idle": "2022-02-09T12:59:20.015713Z",
          "shell.execute_reply.started": "2022-02-09T12:59:19.994397Z",
          "shell.execute_reply": "2022-02-09T12:59:20.014601Z"
        },
        "trusted": true,
        "colab": {
          "base_uri": "https://localhost:8080/"
        },
        "id": "9djsXuvisWEk",
        "outputId": "f5c7d99e-6fb2-4660-c2af-3b3b258fb7af"
      },
      "execution_count": 33,
      "outputs": [
        {
          "output_type": "stream",
          "name": "stdout",
          "text": [
            "Logistic Regression Training data accuracy: 0.9868389423076923\n"
          ]
        }
      ]
    },
    {
      "cell_type": "code",
      "source": [
        "# Acc score on test data\n",
        "test_prediction = model.predict(X_test)\n",
        "test_acc = accuracy_score(test_prediction, Y_test)\n",
        "print(\"Logistic Regression Test data accuracy:\", test_acc)"
      ],
      "metadata": {
        "execution": {
          "iopub.status.busy": "2022-02-09T12:59:20.017362Z",
          "iopub.execute_input": "2022-02-09T12:59:20.019233Z",
          "iopub.status.idle": "2022-02-09T12:59:20.037191Z",
          "shell.execute_reply.started": "2022-02-09T12:59:20.019183Z",
          "shell.execute_reply": "2022-02-09T12:59:20.035256Z"
        },
        "trusted": true,
        "colab": {
          "base_uri": "https://localhost:8080/"
        },
        "id": "v2sy43hmsWEk",
        "outputId": "304e9e4e-b1c2-46f3-fe21-00a5455a98ad"
      },
      "execution_count": 35,
      "outputs": [
        {
          "output_type": "stream",
          "name": "stdout",
          "text": [
            "Logistic Regression Test data accuracy: 0.9766826923076923\n"
          ]
        }
      ]
    },
    {
      "cell_type": "code",
      "source": [
        "# fit the training dataset on the NB classifier\n",
        "# from sklearn.naive_bayes import MultinomialNB\n",
        "Naive = MultinomialNB()\n",
        "Naive.fit(X_train,Y_train)\n",
        "# predict the labels on validation dataset\n",
        "predictions_NB = Naive.predict(X_test)\n",
        "# Use accuracy_score function to get the accuracy\n",
        "print(\"Naive Bayes Accuracy Score -> \",accuracy_score(predictions_NB, Y_test)*100)"
      ],
      "metadata": {
        "colab": {
          "base_uri": "https://localhost:8080/"
        },
        "id": "UqXHX8GZv_oR",
        "outputId": "7f0d74c3-7df0-4712-9f16-29a2d4af9162"
      },
      "execution_count": 39,
      "outputs": [
        {
          "output_type": "stream",
          "name": "stdout",
          "text": [
            "Naive Bayes Accuracy Score ->  95.45673076923077\n"
          ]
        }
      ]
    },
    {
      "cell_type": "code",
      "source": [
        "# Classifier - Algorithm - SVM\n",
        "# fit the training dataset on the classifier\n",
        "SVM = svm.SVC(C=1.0, kernel='linear', degree=3, gamma='auto')\n",
        "SVM.fit(X_train,Y_train)\n",
        "# predict the labels on validation dataset\n",
        "predictions_SVM = SVM.predict(X_test)\n",
        "# Use accuracy_score function to get the accuracy\n",
        "print(\"SVM Accuracy Score -> \",accuracy_score(predictions_SVM, Y_test)*100)"
      ],
      "metadata": {
        "colab": {
          "base_uri": "https://localhost:8080/"
        },
        "id": "FassojSswTCe",
        "outputId": "93cdccdb-724c-4265-9f66-6ac5f2d903be"
      },
      "execution_count": 42,
      "outputs": [
        {
          "output_type": "stream",
          "name": "stdout",
          "text": [
            "SVM Accuracy Score ->  99.1826923076923\n"
          ]
        }
      ]
    },
    {
      "cell_type": "code",
      "source": [
        "# Instantiating the Decision Tree Classifier model\n",
        "DT_model = DecisionTreeClassifier(max_depth = 5)\n",
        "\n",
        "# Fitting the Model\n",
        "DT_model.fit(X_train, Y_train)\n",
        "\n",
        "# Scoring the model on training data\n",
        "DT_model.score(X_train, Y_train)\n",
        "\n",
        "# Scoring the model on test data\n",
        "DT_model.score(X_test, Y_test)\n",
        "\n",
        "print(f'The training score using a Decision Tree Classifier is: {DT_model.score(X_train, Y_train)}')\n",
        "print('\\n')\n",
        "print(f'The testing score using a Decision Tree Classifier is: {DT_model.score(X_test, Y_test)}')"
      ],
      "metadata": {
        "colab": {
          "base_uri": "https://localhost:8080/"
        },
        "id": "2ZrqtyMTwoAC",
        "outputId": "b1cfecac-65cb-4d3c-e91f-e03f7de3ff7f"
      },
      "execution_count": 48,
      "outputs": [
        {
          "output_type": "stream",
          "name": "stdout",
          "text": [
            "The training score using a Decision Tree Classifier is: 0.9401442307692308\n",
            "\n",
            "\n",
            "The testing score using a Decision Tree Classifier is: 0.9286057692307692\n"
          ]
        }
      ]
    },
    {
      "cell_type": "code",
      "source": [
        "# Instantiating the Random Forest Classifier model\n",
        "RF_model = RandomForestClassifier(max_depth = 5,\\\n",
        "                                  n_jobs = -1)\n",
        "\n",
        "# Fitting the Model\n",
        "RF_model.fit(X_train, Y_train)\n",
        "\n",
        "# Scoring the model on training data\n",
        "RF_model.score(X_train, Y_train)\n",
        "\n",
        "# Scoring the model on test data\n",
        "RF_model.score(X_test, Y_test)\n",
        "\n",
        "print(f'The training score using a Random Forest Classifier is: {RF_model.score(X_train, Y_train)}')\n",
        "print('\\n')\n",
        "print(f'The testing score using a Random Forest Classifier is: {RF_model.score(X_test, Y_test)}')"
      ],
      "metadata": {
        "colab": {
          "base_uri": "https://localhost:8080/"
        },
        "id": "Tm86Y-pqxdbJ",
        "outputId": "dc956fb7-f20e-4af3-ba0d-fe54cc5852d3"
      },
      "execution_count": 49,
      "outputs": [
        {
          "output_type": "stream",
          "name": "stdout",
          "text": [
            "The training score using a Random Forest Classifier is: 0.9424278846153846\n",
            "\n",
            "\n",
            "The testing score using a Random Forest Classifier is: 0.9362980769230769\n"
          ]
        }
      ]
    },
    {
      "cell_type": "code",
      "source": [
        "# Instantiating the K Nearest Neighbors model\n",
        "KNN_model = KNeighborsClassifier(n_neighbors = 5, n_jobs = -1)\n",
        "\n",
        "# Fitting the Model\n",
        "KNN_model.fit(X_train, Y_train)\n",
        "\n",
        "# Scoring the model on training data\n",
        "KNN_model.score(X_train, Y_train)\n",
        "\n",
        "# Scoring the model on test data\n",
        "KNN_model.score(X_test, Y_test)\n",
        "\n",
        "print(f'The training score using a K Nearest Neighbors is: {KNN_model.score(X_train, Y_train)}')\n",
        "print('\\n')\n",
        "print(f'The testing score using a K Nearest Neighbors is: {KNN_model.score(X_test, Y_test)}')"
      ],
      "metadata": {
        "colab": {
          "base_uri": "https://localhost:8080/"
        },
        "id": "roKdSc72xuq-",
        "outputId": "7d07ec70-9cfd-442c-bcdc-545ca5b328da"
      },
      "execution_count": 51,
      "outputs": [
        {
          "output_type": "stream",
          "name": "stdout",
          "text": [
            "The training score using a K Nearest Neighbors is: 0.536298076923077\n",
            "\n",
            "\n",
            "The testing score using a K Nearest Neighbors is: 0.5242788461538461\n"
          ]
        }
      ]
    },
    {
      "cell_type": "code",
      "source": [
        "# Instantiating the AdaBoostClassifier Multinomial model\n",
        "ADB_model = AdaBoostClassifier()\n",
        "\n",
        "# Fitting the Model\n",
        "ADB_model.fit(X_train, Y_train)\n",
        "\n",
        "# Scoring the model on training data\n",
        "ADB_model.score(X_train, Y_train)\n",
        "\n",
        "# Scoring the model on test data\n",
        "ADB_model.score(X_test, Y_test)\n",
        "\n",
        "print(f'The training score using a AdaBoost Classifier is: {ADB_model.score(X_train, Y_train)}')\n",
        "print('\\n')\n",
        "print(f'The testing score using a AdaBoost Classifier is: {ADB_model.score(X_test, Y_test)}')"
      ],
      "metadata": {
        "colab": {
          "base_uri": "https://localhost:8080/"
        },
        "id": "TSTv84TPyBsO",
        "outputId": "012a1479-ff87-4b54-d9c2-fe79eb8a97be"
      },
      "execution_count": 52,
      "outputs": [
        {
          "output_type": "stream",
          "name": "stdout",
          "text": [
            "The training score using a AdaBoost Classifier is: 0.9839543269230769\n",
            "\n",
            "\n",
            "The testing score using a AdaBoost Classifier is: 0.9788461538461538\n"
          ]
        }
      ]
    },
    {
      "cell_type": "markdown",
      "source": [
        "# Testing the Project"
      ],
      "metadata": {
        "id": "qxMxyNTQsWEk"
      }
    },
    {
      "cell_type": "code",
      "source": [
        "X_new = X_test[0]\n",
        "prediction = model.predict(X_new)\n",
        "print(prediction)\n",
        "\n",
        "if (prediction[0] == 0):\n",
        "  print(\"The news is real\")\n",
        "else:\n",
        "  print(\"The news is fake\")"
      ],
      "metadata": {
        "execution": {
          "iopub.status.busy": "2022-02-09T12:59:20.039962Z",
          "iopub.execute_input": "2022-02-09T12:59:20.0417Z",
          "iopub.status.idle": "2022-02-09T12:59:20.059174Z",
          "shell.execute_reply.started": "2022-02-09T12:59:20.041628Z",
          "shell.execute_reply": "2022-02-09T12:59:20.058162Z"
        },
        "trusted": true,
        "colab": {
          "base_uri": "https://localhost:8080/"
        },
        "id": "tRgxhPwHsWEk",
        "outputId": "07e5dc02-e011-4ac7-893c-1b9474cff190"
      },
      "execution_count": 53,
      "outputs": [
        {
          "output_type": "stream",
          "name": "stdout",
          "text": [
            "[0]\n",
            "The news is real\n"
          ]
        }
      ]
    },
    {
      "cell_type": "markdown",
      "source": [
        "# Preparing for Submission"
      ],
      "metadata": {
        "id": "Bid_fpiEsWEk"
      }
    },
    {
      "cell_type": "markdown",
      "source": [
        "Train on full training data\n"
      ],
      "metadata": {
        "id": "6j0k0y61sWEk"
      }
    },
    {
      "cell_type": "code",
      "source": [
        "X.shape\n",
        "Y.shape"
      ],
      "metadata": {
        "execution": {
          "iopub.status.busy": "2022-02-09T12:59:20.062235Z",
          "iopub.execute_input": "2022-02-09T12:59:20.065256Z",
          "iopub.status.idle": "2022-02-09T12:59:20.078408Z",
          "shell.execute_reply.started": "2022-02-09T12:59:20.065166Z",
          "shell.execute_reply": "2022-02-09T12:59:20.077314Z"
        },
        "trusted": true,
        "colab": {
          "base_uri": "https://localhost:8080/"
        },
        "id": "GH9Q9bkosWEl",
        "outputId": "b0361e87-ac6e-45c8-e925-62f09ce6c240"
      },
      "execution_count": 54,
      "outputs": [
        {
          "output_type": "execute_result",
          "data": {
            "text/plain": [
              "(20800,)"
            ]
          },
          "metadata": {},
          "execution_count": 54
        }
      ]
    },
    {
      "cell_type": "code",
      "source": [
        "model_full = LogisticRegression(random_state = 1)\n",
        "model_full.fit(X, Y)"
      ],
      "metadata": {
        "execution": {
          "iopub.status.busy": "2022-02-09T12:59:20.080793Z",
          "iopub.execute_input": "2022-02-09T12:59:20.084474Z",
          "iopub.status.idle": "2022-02-09T12:59:21.145697Z",
          "shell.execute_reply.started": "2022-02-09T12:59:20.08411Z",
          "shell.execute_reply": "2022-02-09T12:59:21.144703Z"
        },
        "trusted": true,
        "colab": {
          "base_uri": "https://localhost:8080/"
        },
        "id": "b2gUzcsZsWEl",
        "outputId": "b9d89a06-c8a5-42b1-cdf3-2d697286fdaf"
      },
      "execution_count": 55,
      "outputs": [
        {
          "output_type": "execute_result",
          "data": {
            "text/plain": [
              "LogisticRegression(random_state=1)"
            ]
          },
          "metadata": {},
          "execution_count": 55
        }
      ]
    },
    {
      "cell_type": "markdown",
      "source": [
        "Read the test data"
      ],
      "metadata": {
        "id": "nUVtDICGsWEl"
      }
    },
    {
      "cell_type": "code",
      "source": [
        "test_df = pd.read_csv('test.csv')"
      ],
      "metadata": {
        "execution": {
          "iopub.status.busy": "2022-02-09T12:59:21.147897Z",
          "iopub.execute_input": "2022-02-09T12:59:21.149858Z",
          "iopub.status.idle": "2022-02-09T12:59:21.555257Z",
          "shell.execute_reply.started": "2022-02-09T12:59:21.149804Z",
          "shell.execute_reply": "2022-02-09T12:59:21.554346Z"
        },
        "trusted": true,
        "id": "Tzovq8mssWEl"
      },
      "execution_count": 60,
      "outputs": []
    },
    {
      "cell_type": "markdown",
      "source": [
        "Preprocessing test data"
      ],
      "metadata": {
        "id": "rJJdVOzvsWEl"
      }
    },
    {
      "cell_type": "code",
      "source": [
        "test_df.shape"
      ],
      "metadata": {
        "execution": {
          "iopub.status.busy": "2022-02-09T12:59:21.556876Z",
          "iopub.execute_input": "2022-02-09T12:59:21.557134Z",
          "iopub.status.idle": "2022-02-09T12:59:21.562972Z",
          "shell.execute_reply.started": "2022-02-09T12:59:21.557105Z",
          "shell.execute_reply": "2022-02-09T12:59:21.562107Z"
        },
        "trusted": true,
        "id": "QSxUhqNvsWEl",
        "colab": {
          "base_uri": "https://localhost:8080/"
        },
        "outputId": "89a6dd36-1a17-42df-b8b9-bbbc733ab2ce"
      },
      "execution_count": 61,
      "outputs": [
        {
          "output_type": "execute_result",
          "data": {
            "text/plain": [
              "(5200, 4)"
            ]
          },
          "metadata": {},
          "execution_count": 61
        }
      ]
    },
    {
      "cell_type": "code",
      "source": [
        "test_df.isnull().sum()"
      ],
      "metadata": {
        "execution": {
          "iopub.status.busy": "2022-02-09T12:59:21.564088Z",
          "iopub.execute_input": "2022-02-09T12:59:21.56455Z",
          "iopub.status.idle": "2022-02-09T12:59:21.582255Z",
          "shell.execute_reply.started": "2022-02-09T12:59:21.564512Z",
          "shell.execute_reply": "2022-02-09T12:59:21.581286Z"
        },
        "trusted": true,
        "id": "p8XqBEOQsWEl",
        "colab": {
          "base_uri": "https://localhost:8080/"
        },
        "outputId": "40cd049e-b9dc-4512-e426-b6d08a7c18da"
      },
      "execution_count": 62,
      "outputs": [
        {
          "output_type": "execute_result",
          "data": {
            "text/plain": [
              "id          0\n",
              "title     122\n",
              "author    503\n",
              "text        7\n",
              "dtype: int64"
            ]
          },
          "metadata": {},
          "execution_count": 62
        }
      ]
    },
    {
      "cell_type": "code",
      "source": [
        "test_df = test_df.fillna('')\n",
        "test_df.isnull().sum()"
      ],
      "metadata": {
        "execution": {
          "iopub.status.busy": "2022-02-09T12:59:21.583676Z",
          "iopub.execute_input": "2022-02-09T12:59:21.584648Z",
          "iopub.status.idle": "2022-02-09T12:59:21.60824Z",
          "shell.execute_reply.started": "2022-02-09T12:59:21.584597Z",
          "shell.execute_reply": "2022-02-09T12:59:21.607059Z"
        },
        "trusted": true,
        "id": "BzZ-bs9esWEl",
        "colab": {
          "base_uri": "https://localhost:8080/"
        },
        "outputId": "d243bda8-5d77-4b87-f332-e64d7a25516b"
      },
      "execution_count": 63,
      "outputs": [
        {
          "output_type": "execute_result",
          "data": {
            "text/plain": [
              "id        0\n",
              "title     0\n",
              "author    0\n",
              "text      0\n",
              "dtype: int64"
            ]
          },
          "metadata": {},
          "execution_count": 63
        }
      ]
    },
    {
      "cell_type": "code",
      "source": [
        "#Merge author and title\n",
        "test_df['content']= test_df['author']+\" \"+test_df['title']"
      ],
      "metadata": {
        "execution": {
          "iopub.status.busy": "2022-02-09T12:59:21.60951Z",
          "iopub.execute_input": "2022-02-09T12:59:21.609916Z",
          "iopub.status.idle": "2022-02-09T12:59:21.619209Z",
          "shell.execute_reply.started": "2022-02-09T12:59:21.609883Z",
          "shell.execute_reply": "2022-02-09T12:59:21.618053Z"
        },
        "trusted": true,
        "id": "295Zf59HsWEl"
      },
      "execution_count": 64,
      "outputs": []
    },
    {
      "cell_type": "code",
      "source": [
        "test_df.head()"
      ],
      "metadata": {
        "execution": {
          "iopub.status.busy": "2022-02-09T12:59:21.620679Z",
          "iopub.execute_input": "2022-02-09T12:59:21.621231Z",
          "iopub.status.idle": "2022-02-09T12:59:21.639023Z",
          "shell.execute_reply.started": "2022-02-09T12:59:21.621076Z",
          "shell.execute_reply": "2022-02-09T12:59:21.637677Z"
        },
        "trusted": true,
        "id": "vAbCvOp8sWEl",
        "colab": {
          "base_uri": "https://localhost:8080/",
          "height": 337
        },
        "outputId": "794f7a4a-e4a6-4a65-90e0-a7f3f167221d"
      },
      "execution_count": 65,
      "outputs": [
        {
          "output_type": "execute_result",
          "data": {
            "text/html": [
              "\n",
              "  <div id=\"df-8a43912c-4122-49f7-8ece-a542adb98a53\">\n",
              "    <div class=\"colab-df-container\">\n",
              "      <div>\n",
              "<style scoped>\n",
              "    .dataframe tbody tr th:only-of-type {\n",
              "        vertical-align: middle;\n",
              "    }\n",
              "\n",
              "    .dataframe tbody tr th {\n",
              "        vertical-align: top;\n",
              "    }\n",
              "\n",
              "    .dataframe thead th {\n",
              "        text-align: right;\n",
              "    }\n",
              "</style>\n",
              "<table border=\"1\" class=\"dataframe\">\n",
              "  <thead>\n",
              "    <tr style=\"text-align: right;\">\n",
              "      <th></th>\n",
              "      <th>id</th>\n",
              "      <th>title</th>\n",
              "      <th>author</th>\n",
              "      <th>text</th>\n",
              "      <th>content</th>\n",
              "    </tr>\n",
              "  </thead>\n",
              "  <tbody>\n",
              "    <tr>\n",
              "      <th>0</th>\n",
              "      <td>20800</td>\n",
              "      <td>Specter of Trump Loosens Tongues, if Not Purse...</td>\n",
              "      <td>David Streitfeld</td>\n",
              "      <td>PALO ALTO, Calif.  —   After years of scorning...</td>\n",
              "      <td>David Streitfeld Specter of Trump Loosens Tong...</td>\n",
              "    </tr>\n",
              "    <tr>\n",
              "      <th>1</th>\n",
              "      <td>20801</td>\n",
              "      <td>Russian warships ready to strike terrorists ne...</td>\n",
              "      <td></td>\n",
              "      <td>Russian warships ready to strike terrorists ne...</td>\n",
              "      <td>Russian warships ready to strike terrorists n...</td>\n",
              "    </tr>\n",
              "    <tr>\n",
              "      <th>2</th>\n",
              "      <td>20802</td>\n",
              "      <td>#NoDAPL: Native American Leaders Vow to Stay A...</td>\n",
              "      <td>Common Dreams</td>\n",
              "      <td>Videos #NoDAPL: Native American Leaders Vow to...</td>\n",
              "      <td>Common Dreams #NoDAPL: Native American Leaders...</td>\n",
              "    </tr>\n",
              "    <tr>\n",
              "      <th>3</th>\n",
              "      <td>20803</td>\n",
              "      <td>Tim Tebow Will Attempt Another Comeback, This ...</td>\n",
              "      <td>Daniel Victor</td>\n",
              "      <td>If at first you don’t succeed, try a different...</td>\n",
              "      <td>Daniel Victor Tim Tebow Will Attempt Another C...</td>\n",
              "    </tr>\n",
              "    <tr>\n",
              "      <th>4</th>\n",
              "      <td>20804</td>\n",
              "      <td>Keiser Report: Meme Wars (E995)</td>\n",
              "      <td>Truth Broadcast Network</td>\n",
              "      <td>42 mins ago 1 Views 0 Comments 0 Likes 'For th...</td>\n",
              "      <td>Truth Broadcast Network Keiser Report: Meme Wa...</td>\n",
              "    </tr>\n",
              "  </tbody>\n",
              "</table>\n",
              "</div>\n",
              "      <button class=\"colab-df-convert\" onclick=\"convertToInteractive('df-8a43912c-4122-49f7-8ece-a542adb98a53')\"\n",
              "              title=\"Convert this dataframe to an interactive table.\"\n",
              "              style=\"display:none;\">\n",
              "        \n",
              "  <svg xmlns=\"http://www.w3.org/2000/svg\" height=\"24px\"viewBox=\"0 0 24 24\"\n",
              "       width=\"24px\">\n",
              "    <path d=\"M0 0h24v24H0V0z\" fill=\"none\"/>\n",
              "    <path d=\"M18.56 5.44l.94 2.06.94-2.06 2.06-.94-2.06-.94-.94-2.06-.94 2.06-2.06.94zm-11 1L8.5 8.5l.94-2.06 2.06-.94-2.06-.94L8.5 2.5l-.94 2.06-2.06.94zm10 10l.94 2.06.94-2.06 2.06-.94-2.06-.94-.94-2.06-.94 2.06-2.06.94z\"/><path d=\"M17.41 7.96l-1.37-1.37c-.4-.4-.92-.59-1.43-.59-.52 0-1.04.2-1.43.59L10.3 9.45l-7.72 7.72c-.78.78-.78 2.05 0 2.83L4 21.41c.39.39.9.59 1.41.59.51 0 1.02-.2 1.41-.59l7.78-7.78 2.81-2.81c.8-.78.8-2.07 0-2.86zM5.41 20L4 18.59l7.72-7.72 1.47 1.35L5.41 20z\"/>\n",
              "  </svg>\n",
              "      </button>\n",
              "      \n",
              "  <style>\n",
              "    .colab-df-container {\n",
              "      display:flex;\n",
              "      flex-wrap:wrap;\n",
              "      gap: 12px;\n",
              "    }\n",
              "\n",
              "    .colab-df-convert {\n",
              "      background-color: #E8F0FE;\n",
              "      border: none;\n",
              "      border-radius: 50%;\n",
              "      cursor: pointer;\n",
              "      display: none;\n",
              "      fill: #1967D2;\n",
              "      height: 32px;\n",
              "      padding: 0 0 0 0;\n",
              "      width: 32px;\n",
              "    }\n",
              "\n",
              "    .colab-df-convert:hover {\n",
              "      background-color: #E2EBFA;\n",
              "      box-shadow: 0px 1px 2px rgba(60, 64, 67, 0.3), 0px 1px 3px 1px rgba(60, 64, 67, 0.15);\n",
              "      fill: #174EA6;\n",
              "    }\n",
              "\n",
              "    [theme=dark] .colab-df-convert {\n",
              "      background-color: #3B4455;\n",
              "      fill: #D2E3FC;\n",
              "    }\n",
              "\n",
              "    [theme=dark] .colab-df-convert:hover {\n",
              "      background-color: #434B5C;\n",
              "      box-shadow: 0px 1px 3px 1px rgba(0, 0, 0, 0.15);\n",
              "      filter: drop-shadow(0px 1px 2px rgba(0, 0, 0, 0.3));\n",
              "      fill: #FFFFFF;\n",
              "    }\n",
              "  </style>\n",
              "\n",
              "      <script>\n",
              "        const buttonEl =\n",
              "          document.querySelector('#df-8a43912c-4122-49f7-8ece-a542adb98a53 button.colab-df-convert');\n",
              "        buttonEl.style.display =\n",
              "          google.colab.kernel.accessAllowed ? 'block' : 'none';\n",
              "\n",
              "        async function convertToInteractive(key) {\n",
              "          const element = document.querySelector('#df-8a43912c-4122-49f7-8ece-a542adb98a53');\n",
              "          const dataTable =\n",
              "            await google.colab.kernel.invokeFunction('convertToInteractive',\n",
              "                                                     [key], {});\n",
              "          if (!dataTable) return;\n",
              "\n",
              "          const docLinkHtml = 'Like what you see? Visit the ' +\n",
              "            '<a target=\"_blank\" href=https://colab.research.google.com/notebooks/data_table.ipynb>data table notebook</a>'\n",
              "            + ' to learn more about interactive tables.';\n",
              "          element.innerHTML = '';\n",
              "          dataTable['output_type'] = 'display_data';\n",
              "          await google.colab.output.renderOutput(dataTable, element);\n",
              "          const docLink = document.createElement('div');\n",
              "          docLink.innerHTML = docLinkHtml;\n",
              "          element.appendChild(docLink);\n",
              "        }\n",
              "      </script>\n",
              "    </div>\n",
              "  </div>\n",
              "  "
            ],
            "text/plain": [
              "      id  ...                                            content\n",
              "0  20800  ...  David Streitfeld Specter of Trump Loosens Tong...\n",
              "1  20801  ...   Russian warships ready to strike terrorists n...\n",
              "2  20802  ...  Common Dreams #NoDAPL: Native American Leaders...\n",
              "3  20803  ...  Daniel Victor Tim Tebow Will Attempt Another C...\n",
              "4  20804  ...  Truth Broadcast Network Keiser Report: Meme Wa...\n",
              "\n",
              "[5 rows x 5 columns]"
            ]
          },
          "metadata": {},
          "execution_count": 65
        }
      ]
    },
    {
      "cell_type": "code",
      "source": [
        "test_df['content'] = test_df['content'].apply(stemming)"
      ],
      "metadata": {
        "execution": {
          "iopub.status.busy": "2022-02-09T12:59:21.64133Z",
          "iopub.execute_input": "2022-02-09T12:59:21.641756Z",
          "iopub.status.idle": "2022-02-09T12:59:33.886086Z",
          "shell.execute_reply.started": "2022-02-09T12:59:21.641718Z",
          "shell.execute_reply": "2022-02-09T12:59:33.884993Z"
        },
        "trusted": true,
        "id": "SJwSgWLrsWEl"
      },
      "execution_count": 66,
      "outputs": []
    },
    {
      "cell_type": "code",
      "source": [
        "print(test_df['content'])"
      ],
      "metadata": {
        "execution": {
          "iopub.status.busy": "2022-02-09T12:59:33.887518Z",
          "iopub.execute_input": "2022-02-09T12:59:33.887873Z",
          "iopub.status.idle": "2022-02-09T12:59:33.897997Z",
          "shell.execute_reply.started": "2022-02-09T12:59:33.887827Z",
          "shell.execute_reply": "2022-02-09T12:59:33.896651Z"
        },
        "trusted": true,
        "id": "vIdZKVVLsWEm",
        "colab": {
          "base_uri": "https://localhost:8080/"
        },
        "outputId": "6f536907-2c89-4e98-87f1-ae3a9981134b"
      },
      "execution_count": 67,
      "outputs": [
        {
          "output_type": "stream",
          "name": "stdout",
          "text": [
            "0       david streitfeld specter trump loosen tongu pu...\n",
            "1       russian warship readi strike terrorist near al...\n",
            "2       common dream nodapl nativ american leader vow ...\n",
            "3       daniel victor tim tebow attempt anoth comeback...\n",
            "4        truth broadcast network keiser report meme war e\n",
            "                              ...                        \n",
            "5195    jodi rosen bangladeshi traffic jam never end n...\n",
            "5196    sheryl gay stolberg john kasich sign one abort...\n",
            "5197    mike mcphate california today exactli sushi ne...\n",
            "5198                us marin deploy russian border norway\n",
            "5199        teddi wayn awkward sex onscreen new york time\n",
            "Name: content, Length: 5200, dtype: object\n"
          ]
        }
      ]
    },
    {
      "cell_type": "code",
      "source": [
        "X_final = test_df['content'].values\n",
        "print(X_final)"
      ],
      "metadata": {
        "execution": {
          "iopub.status.busy": "2022-02-09T12:59:33.899855Z",
          "iopub.execute_input": "2022-02-09T12:59:33.900132Z",
          "iopub.status.idle": "2022-02-09T12:59:33.911953Z",
          "shell.execute_reply.started": "2022-02-09T12:59:33.900102Z",
          "shell.execute_reply": "2022-02-09T12:59:33.91034Z"
        },
        "trusted": true,
        "id": "3cHhP37ZsWEm",
        "colab": {
          "base_uri": "https://localhost:8080/"
        },
        "outputId": "95ecabec-b97a-486a-a7d9-3a1b7cbd2efe"
      },
      "execution_count": 68,
      "outputs": [
        {
          "output_type": "stream",
          "name": "stdout",
          "text": [
            "['david streitfeld specter trump loosen tongu purs string silicon valley new york time'\n",
            " 'russian warship readi strike terrorist near aleppo'\n",
            " 'common dream nodapl nativ american leader vow stay winter file lawsuit polic'\n",
            " ... 'mike mcphate california today exactli sushi new york time'\n",
            " 'us marin deploy russian border norway'\n",
            " 'teddi wayn awkward sex onscreen new york time']\n"
          ]
        }
      ]
    },
    {
      "cell_type": "code",
      "source": [
        "#Converting test data to numeric\n",
        "X_final = vectorizer.transform(X_final)\n",
        "print(X_final)"
      ],
      "metadata": {
        "execution": {
          "iopub.status.busy": "2022-02-09T12:59:33.913867Z",
          "iopub.execute_input": "2022-02-09T12:59:33.914252Z",
          "iopub.status.idle": "2022-02-09T12:59:34.015192Z",
          "shell.execute_reply.started": "2022-02-09T12:59:33.914191Z",
          "shell.execute_reply": "2022-02-09T12:59:34.014378Z"
        },
        "trusted": true,
        "id": "Awt9b5UwsWEm",
        "colab": {
          "base_uri": "https://localhost:8080/"
        },
        "outputId": "6d59b07c-eb16-47a9-e07d-88f84a989d8a"
      },
      "execution_count": 69,
      "outputs": [
        {
          "output_type": "stream",
          "name": "stdout",
          "text": [
            "  (0, 16996)\t0.08864595251126647\n",
            "  (0, 16088)\t0.3205594987716609\n",
            "  (0, 15582)\t0.11032513315099028\n",
            "  (0, 15368)\t0.38547947461491155\n",
            "  (0, 15295)\t0.08697876504498342\n",
            "  (0, 14605)\t0.3970837204511862\n",
            "  (0, 14591)\t0.34467447913058513\n",
            "  (0, 13850)\t0.32956045112215354\n",
            "  (0, 12030)\t0.38547947461491155\n",
            "  (0, 10306)\t0.08568694729690247\n",
            "  (0, 8842)\t0.36912420870480717\n",
            "  (0, 3623)\t0.209228842739656\n",
            "  (1, 16473)\t0.4921981982038152\n",
            "  (1, 15142)\t0.3550835494981517\n",
            "  (1, 14603)\t0.35559908473568963\n",
            "  (1, 13048)\t0.3052969733971102\n",
            "  (1, 12300)\t0.3838422559012773\n",
            "  (1, 10219)\t0.37818137822242154\n",
            "  (1, 347)\t0.3487744590431239\n",
            "  (2, 16746)\t0.3016628915147435\n",
            "  (2, 16354)\t0.2909537422615255\n",
            "  (2, 14457)\t0.30637021801826614\n",
            "  (2, 11598)\t0.21447077225895875\n",
            "  (2, 10419)\t0.35982822390508096\n",
            "  (2, 10176)\t0.3194727535249622\n",
            "  :\t:\n",
            "  (5196, 5884)\t0.2500401085058591\n",
            "  (5196, 1517)\t0.19940396943572683\n",
            "  (5196, 41)\t0.2656503884474958\n",
            "  (5197, 16996)\t0.11797520134546996\n",
            "  (5197, 15336)\t0.33413616793311524\n",
            "  (5197, 15295)\t0.11575641107424592\n",
            "  (5197, 14827)\t0.5502287050707828\n",
            "  (5197, 10306)\t0.1140371847067236\n",
            "  (5197, 9628)\t0.2914620299435\n",
            "  (5197, 9405)\t0.3763670657730048\n",
            "  (5197, 5005)\t0.4638294166150902\n",
            "  (5197, 2184)\t0.3217750895378809\n",
            "  (5198, 16036)\t0.2897750750203496\n",
            "  (5198, 13048)\t0.3239229606712843\n",
            "  (5198, 10465)\t0.5285950904428587\n",
            "  (5198, 9196)\t0.45384301471017496\n",
            "  (5198, 3857)\t0.45192406838310434\n",
            "  (5198, 1766)\t0.3485436934179841\n",
            "  (5199, 16996)\t0.11981057095223657\n",
            "  (5199, 16501)\t0.5088343621556953\n",
            "  (5199, 15295)\t0.11755726240784027\n",
            "  (5199, 13600)\t0.34031674142822577\n",
            "  (5199, 10713)\t0.5587887501526321\n",
            "  (5199, 10306)\t0.11581128960728698\n",
            "  (5199, 1016)\t0.5209997144326574\n"
          ]
        }
      ]
    },
    {
      "cell_type": "code",
      "source": [
        "X_final.shape"
      ],
      "metadata": {
        "execution": {
          "iopub.status.busy": "2022-02-09T12:59:34.016437Z",
          "iopub.execute_input": "2022-02-09T12:59:34.016853Z",
          "iopub.status.idle": "2022-02-09T12:59:34.022316Z",
          "shell.execute_reply.started": "2022-02-09T12:59:34.016819Z",
          "shell.execute_reply": "2022-02-09T12:59:34.020851Z"
        },
        "trusted": true,
        "id": "vUp32u0tsWEm",
        "colab": {
          "base_uri": "https://localhost:8080/"
        },
        "outputId": "e847b3df-ddd5-4540-98b0-5a918e517427"
      },
      "execution_count": 70,
      "outputs": [
        {
          "output_type": "execute_result",
          "data": {
            "text/plain": [
              "(5200, 17128)"
            ]
          },
          "metadata": {},
          "execution_count": 70
        }
      ]
    },
    {
      "cell_type": "markdown",
      "source": [
        "Making prediction"
      ],
      "metadata": {
        "id": "dwaSYRnZsWEm"
      }
    },
    {
      "cell_type": "code",
      "source": [
        "final_prediction = model_full.predict(X_final)"
      ],
      "metadata": {
        "execution": {
          "iopub.status.busy": "2022-02-09T13:00:00.349115Z",
          "iopub.execute_input": "2022-02-09T13:00:00.349885Z",
          "iopub.status.idle": "2022-02-09T13:00:00.355253Z",
          "shell.execute_reply.started": "2022-02-09T13:00:00.349838Z",
          "shell.execute_reply": "2022-02-09T13:00:00.354261Z"
        },
        "trusted": true,
        "id": "JfXmsDBOsWEm"
      },
      "execution_count": 71,
      "outputs": []
    },
    {
      "cell_type": "markdown",
      "source": [
        "Output in submission fromat"
      ],
      "metadata": {
        "id": "ceX6bFk-sWEm"
      }
    },
    {
      "cell_type": "code",
      "source": [
        "output = pd.DataFrame({'id': test_df.id,\n",
        "                      'label': final_prediction})\n",
        "\n",
        "output.to_csv('submission.csv', index=False)\n",
        "print(output)"
      ],
      "metadata": {
        "execution": {
          "iopub.status.busy": "2022-02-09T13:03:59.520531Z",
          "iopub.execute_input": "2022-02-09T13:03:59.521209Z",
          "iopub.status.idle": "2022-02-09T13:03:59.54338Z",
          "shell.execute_reply.started": "2022-02-09T13:03:59.521168Z",
          "shell.execute_reply": "2022-02-09T13:03:59.542618Z"
        },
        "trusted": true,
        "id": "idTCQAdksWEm",
        "colab": {
          "base_uri": "https://localhost:8080/"
        },
        "outputId": "d40fd5f0-d680-43b4-af2b-b9f3cefa2f73"
      },
      "execution_count": 72,
      "outputs": [
        {
          "output_type": "stream",
          "name": "stdout",
          "text": [
            "         id  label\n",
            "0     20800      0\n",
            "1     20801      1\n",
            "2     20802      1\n",
            "3     20803      0\n",
            "4     20804      1\n",
            "...     ...    ...\n",
            "5195  25995      0\n",
            "5196  25996      0\n",
            "5197  25997      0\n",
            "5198  25998      1\n",
            "5199  25999      0\n",
            "\n",
            "[5200 rows x 2 columns]\n"
          ]
        }
      ]
    }
  ]
}